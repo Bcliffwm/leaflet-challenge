{
 "cells": [
  {
   "cell_type": "code",
   "execution_count": 15,
   "metadata": {},
   "outputs": [
    {
     "name": "stdout",
     "output_type": "stream",
     "text": [
      "dict_keys(['type', 'properties', 'geometry', 'id'])\n"
     ]
    }
   ],
   "source": [
    "import json\n",
    "data=json.loads(\"\"\"{\"type\":\"FeatureCollection\",\"metadata\":{\"generated\":1588024017000,\"url\":\"https://earthquake.usgs.gov/earthquakes/feed/v1.0/summary/4.5_day.geojson\",\"title\":\"USGS Magnitude 4.5+ Earthquakes, Past Day\",\"status\":200,\"api\":\"1.8.1\",\"count\":7},\"features\":[{\"type\":\"Feature\",\"properties\":{\"mag\":4.6,\"place\":\"23km SSW of Khorugh, Tajikistan\",\"time\":1587986008890,\"updated\":1587989606040,\"tz\":270,\"url\":\"https://earthquake.usgs.gov/earthquakes/eventpage/us60009d6v\",\"detail\":\"https://earthquake.usgs.gov/earthquakes/feed/v1.0/detail/us60009d6v.geojson\",\"felt\":null,\"cdi\":null,\"mmi\":null,\"alert\":null,\"status\":\"reviewed\",\"tsunami\":0,\"sig\":326,\"net\":\"us\",\"code\":\"60009d6v\",\"ids\":\",us60009d6v,\",\"sources\":\",us,\",\"types\":\",geoserve,origin,phase-data,\",\"nst\":null,\"dmin\":1.914,\"rms\":0.84,\"gap\":72,\"magType\":\"mb\",\"type\":\"earthquake\",\"title\":\"M 4.6 - 23km SSW of Khorugh, Tajikistan\"},\"geometry\":{\"type\":\"Point\",\"coordinates\":[71.4437,37.297,137.95]},\"id\":\"us60009d6v\"},\n",
    "{\"type\":\"Feature\",\"properties\":{\"mag\":5.4,\"place\":\"100km WNW of Namatanai, Papua New Guinea\",\"time\":1587976838884,\"updated\":1588001826040,\"tz\":600,\"url\":\"https://earthquake.usgs.gov/earthquakes/eventpage/us60009d5p\",\"detail\":\"https://earthquake.usgs.gov/earthquakes/feed/v1.0/detail/us60009d5p.geojson\",\"felt\":null,\"cdi\":null,\"mmi\":5.613,\"alert\":\"green\",\"status\":\"reviewed\",\"tsunami\":1,\"sig\":449,\"net\":\"us\",\"code\":\"60009d5p\",\"ids\":\",us60009d5p,\",\"sources\":\",us,\",\"types\":\",geoserve,losspager,moment-tensor,origin,phase-data,shakemap,\",\"nst\":null,\"dmin\":1.06,\"rms\":0.98,\"gap\":70,\"magType\":\"mww\",\"type\":\"earthquake\",\"title\":\"M 5.4 - 100km WNW of Namatanai, Papua New Guinea\"},\"geometry\":{\"type\":\"Point\",\"coordinates\":[151.6175,-3.276,10]},\"id\":\"us60009d5p\"},\n",
    "{\"type\":\"Feature\",\"properties\":{\"mag\":4.8,\"place\":\"94km NNE of Adak, Alaska\",\"time\":1587960806182,\"updated\":1587989761282,\"tz\":-720,\"url\":\"https://earthquake.usgs.gov/earthquakes/eventpage/us60009d2q\",\"detail\":\"https://earthquake.usgs.gov/earthquakes/feed/v1.0/detail/us60009d2q.geojson\",\"felt\":null,\"cdi\":null,\"mmi\":null,\"alert\":null,\"status\":\"reviewed\",\"tsunami\":1,\"sig\":354,\"net\":\"us\",\"code\":\"60009d2q\",\"ids\":\",at00q9fied,ak0205f7vj54,us60009d2q,\",\"sources\":\",at,ak,us,\",\"types\":\",geoserve,impact-link,origin,phase-data,\",\"nst\":null,\"dmin\":0.564,\"rms\":0.92,\"gap\":84,\"magType\":\"mb\",\"type\":\"earthquake\",\"title\":\"M 4.8 - 94km NNE of Adak, Alaska\"},\"geometry\":{\"type\":\"Point\",\"coordinates\":[-176.0952,52.6566,226.27]},\"id\":\"us60009d2q\"},\n",
    "{\"type\":\"Feature\",\"properties\":{\"mag\":4.7,\"place\":\"84km WNW of Rabaul, Papua New Guinea\",\"time\":1587957847942,\"updated\":1587960919040,\"tz\":600,\"url\":\"https://earthquake.usgs.gov/earthquakes/eventpage/us60009d1v\",\"detail\":\"https://earthquake.usgs.gov/earthquakes/feed/v1.0/detail/us60009d1v.geojson\",\"felt\":null,\"cdi\":null,\"mmi\":null,\"alert\":null,\"status\":\"reviewed\",\"tsunami\":0,\"sig\":340,\"net\":\"us\",\"code\":\"60009d1v\",\"ids\":\",us60009d1v,\",\"sources\":\",us,\",\"types\":\",geoserve,origin,phase-data,\",\"nst\":null,\"dmin\":0.747,\"rms\":0.95,\"gap\":81,\"magType\":\"mb\",\"type\":\"earthquake\",\"title\":\"M 4.7 - 84km WNW of Rabaul, Papua New Guinea\"},\"geometry\":{\"type\":\"Point\",\"coordinates\":[151.4465,-3.9722,10]},\"id\":\"us60009d1v\"},\n",
    "{\"type\":\"Feature\",\"properties\":{\"mag\":5.1,\"place\":\"111km SE of Pondaguitan, Philippines\",\"time\":1587944925554,\"updated\":1587945825040,\"tz\":480,\"url\":\"https://earthquake.usgs.gov/earthquakes/eventpage/us60009czd\",\"detail\":\"https://earthquake.usgs.gov/earthquakes/feed/v1.0/detail/us60009czd.geojson\",\"felt\":null,\"cdi\":null,\"mmi\":null,\"alert\":null,\"status\":\"reviewed\",\"tsunami\":0,\"sig\":400,\"net\":\"us\",\"code\":\"60009czd\",\"ids\":\",us60009czd,\",\"sources\":\",us,\",\"types\":\",geoserve,origin,phase-data,\",\"nst\":null,\"dmin\":1.922,\"rms\":0.92,\"gap\":75,\"magType\":\"mww\",\"type\":\"earthquake\",\"title\":\"M 5.1 - 111km SE of Pondaguitan, Philippines\"},\"geometry\":{\"type\":\"Point\",\"coordinates\":[126.8892,5.6464,69.09]},\"id\":\"us60009czd\"},\n",
    "{\"type\":\"Feature\",\"properties\":{\"mag\":4.9,\"place\":\"55km NNW of Te Anau, New Zealand\",\"time\":1587941531213,\"updated\":1587971829921,\"tz\":720,\"url\":\"https://earthquake.usgs.gov/earthquakes/eventpage/us60009cyg\",\"detail\":\"https://earthquake.usgs.gov/earthquakes/feed/v1.0/detail/us60009cyg.geojson\",\"felt\":15,\"cdi\":4.1,\"mmi\":3.554,\"alert\":\"green\",\"status\":\"reviewed\",\"tsunami\":0,\"sig\":376,\"net\":\"us\",\"code\":\"60009cyg\",\"ids\":\",us60009cyg,\",\"sources\":\",us,\",\"types\":\",dyfi,geoserve,losspager,origin,phase-data,shakemap,\",\"nst\":null,\"dmin\":0.593,\"rms\":0.83,\"gap\":38,\"magType\":\"mww\",\"type\":\"earthquake\",\"title\":\"M 4.9 - 55km NNW of Te Anau, New Zealand\"},\"geometry\":{\"type\":\"Point\",\"coordinates\":[167.5476,-44.9312,78.84]},\"id\":\"us60009cyg\"},\n",
    "{\"type\":\"Feature\",\"properties\":{\"mag\":4.6,\"place\":\"84km NNE of Oxapampa, Peru\",\"time\":1587940090699,\"updated\":1587956254832,\"tz\":-300,\"url\":\"https://earthquake.usgs.gov/earthquakes/eventpage/us60009cy7\",\"detail\":\"https://earthquake.usgs.gov/earthquakes/feed/v1.0/detail/us60009cy7.geojson\",\"felt\":1,\"cdi\":2,\"mmi\":null,\"alert\":null,\"status\":\"reviewed\",\"tsunami\":0,\"sig\":326,\"net\":\"us\",\"code\":\"60009cy7\",\"ids\":\",us60009cy7,\",\"sources\":\",us,\",\"types\":\",dyfi,geoserve,origin,phase-data,\",\"nst\":null,\"dmin\":2.688,\"rms\":0.62,\"gap\":103,\"magType\":\"mb\",\"type\":\"earthquake\",\"title\":\"M 4.6 - 84km NNE of Oxapampa, Peru\"},\"geometry\":{\"type\":\"Point\",\"coordinates\":[-75.1532,-9.8586,121.04]},\"id\":\"us60009cy7\"}],\"bbox\":[-176.0952,-44.9312,10,167.5476,52.6566,226.27]}\"\"\")\n",
    "print(data.get(\"features\")[0].keys())\n"
   ]
  },
  {
   "cell_type": "code",
   "execution_count": null,
   "metadata": {},
   "outputs": [],
   "source": []
  }
 ],
 "metadata": {
  "kernelspec": {
   "display_name": "Python 3",
   "language": "python",
   "name": "python3"
  },
  "language_info": {
   "codemirror_mode": {
    "name": "ipython",
    "version": 3
   },
   "file_extension": ".py",
   "mimetype": "text/x-python",
   "name": "python",
   "nbconvert_exporter": "python",
   "pygments_lexer": "ipython3",
   "version": "3.7.6"
  }
 },
 "nbformat": 4,
 "nbformat_minor": 4
}
